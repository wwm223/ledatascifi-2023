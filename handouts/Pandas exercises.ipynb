{
 "cells": [
  {
   "cell_type": "code",
   "execution_count": 2,
   "id": "31aab3cb-c993-4836-93c3-a30b28b0440a",
   "metadata": {},
   "outputs": [
    {
     "ename": "ModuleNotFoundError",
     "evalue": "No module named 'pandas_datareader'",
     "output_type": "error",
     "traceback": [
      "\u001b[0;31m---------------------------------------------------------------------------\u001b[0m",
      "\u001b[0;31mModuleNotFoundError\u001b[0m                       Traceback (most recent call last)",
      "Cell \u001b[0;32mIn[2], line 5\u001b[0m\n\u001b[1;32m      3\u001b[0m \u001b[38;5;28;01mimport\u001b[39;00m \u001b[38;5;21;01mnumpy\u001b[39;00m \u001b[38;5;28;01mas\u001b[39;00m \u001b[38;5;21;01mnp\u001b[39;00m\n\u001b[1;32m      4\u001b[0m \u001b[38;5;28;01mimport\u001b[39;00m \u001b[38;5;21;01mpandas\u001b[39;00m \u001b[38;5;28;01mas\u001b[39;00m \u001b[38;5;21;01mpd\u001b[39;00m\n\u001b[0;32m----> 5\u001b[0m \u001b[38;5;28;01mimport\u001b[39;00m \u001b[38;5;21;01mpandas_datareader\u001b[39;00m \u001b[38;5;28;01mas\u001b[39;00m \u001b[38;5;21;01mpdr\u001b[39;00m  \u001b[38;5;66;03m# IF NECESSARY, from terminal: pip install pandas_datareader\u001b[39;00m\n\u001b[1;32m      6\u001b[0m \u001b[38;5;28;01mfrom\u001b[39;00m \u001b[38;5;21;01mnumpy\u001b[39;00m\u001b[38;5;21;01m.\u001b[39;00m\u001b[38;5;21;01mrandom\u001b[39;00m \u001b[38;5;28;01mimport\u001b[39;00m default_rng\n\u001b[1;32m      8\u001b[0m pd\u001b[38;5;241m.\u001b[39mset_option(\u001b[38;5;124m\"\u001b[39m\u001b[38;5;124mdisplay.max_rows\u001b[39m\u001b[38;5;124m\"\u001b[39m, \u001b[38;5;241m10\u001b[39m)\n",
      "\u001b[0;31mModuleNotFoundError\u001b[0m: No module named 'pandas_datareader'"
     ]
    }
   ],
   "source": [
    "import datetime\n",
    "\n",
    "import numpy as np\n",
    "import pandas as pd\n",
    "import pandas_datareader as pdr  # IF NECESSARY, from terminal: pip install pandas_datareader\n",
    "from numpy.random import default_rng\n",
    "\n",
    "pd.set_option(\"display.max_rows\", 10)  # display option for pandas\n",
    "# more here: https://pandas.pydata.org/pandas-docs/stable/user_guide/options.html"
   ]
  },
  {
   "cell_type": "markdown",
   "id": "7d26a1a2-b679-4b1f-a9ea-d64c9db79269",
   "metadata": {},
   "source": [
    "## A quick hit of Numpy"
   ]
  },
  {
   "cell_type": "code",
   "execution_count": 1,
   "id": "708bd962-843e-408d-8d8d-0a6766bc7cdc",
   "metadata": {},
   "outputs": [
    {
     "ename": "NameError",
     "evalue": "name 'default_rng' is not defined",
     "output_type": "error",
     "traceback": [
      "\u001b[0;31m---------------------------------------------------------------------------\u001b[0m",
      "\u001b[0;31mNameError\u001b[0m                                 Traceback (most recent call last)",
      "Cell \u001b[0;32mIn[1], line 6\u001b[0m\n\u001b[1;32m      1\u001b[0m \u001b[38;5;66;03m# create a random vector \u001b[39;00m\n\u001b[1;32m      2\u001b[0m \u001b[38;5;66;03m# every run of this --> diff #s\u001b[39;00m\n\u001b[1;32m      3\u001b[0m \u001b[38;5;66;03m# see 3.2.2.2 in the textbook for why, \u001b[39;00m\n\u001b[1;32m      4\u001b[0m \u001b[38;5;66;03m# and how to prevent\u001b[39;00m\n\u001b[0;32m----> 6\u001b[0m rg \u001b[38;5;241m=\u001b[39m \u001b[43mdefault_rng\u001b[49m()\n\u001b[1;32m      7\u001b[0m myray \u001b[38;5;241m=\u001b[39m rg\u001b[38;5;241m.\u001b[39mstandard_normal(\u001b[38;5;241m5\u001b[39m)\n\u001b[1;32m      8\u001b[0m \u001b[38;5;28mprint\u001b[39m(\u001b[38;5;124m\"\u001b[39m\u001b[38;5;124mmyray:\u001b[39m\u001b[38;5;124m\"\u001b[39m, myray)\n",
      "\u001b[0;31mNameError\u001b[0m: name 'default_rng' is not defined"
     ]
    }
   ],
   "source": [
    "# create a random vector \n",
    "# every run of this --> diff #s\n",
    "# see 3.2.2.2 in the textbook for why, \n",
    "# and how to prevent\n",
    "\n",
    "rg = default_rng()\n",
    "myray = rg.standard_normal(5)\n",
    "print(\"myray:\", myray) "
   ]
  },
  {
   "cell_type": "code",
   "execution_count": null,
   "id": "7117b4f7-7c2a-4d91-b6d5-5016144da3cc",
   "metadata": {},
   "outputs": [],
   "source": [
    "# q1 - indexing, pick the odd elements\n",
    "myray[0::2]\n",
    "myray[-2]\n"
   ]
  },
  {
   "cell_type": "markdown",
   "id": "2deffcd5-8da2-45ba-9993-28ba5ae2326d",
   "metadata": {},
   "source": [
    "Booleans arrays: Asking a logic test on an array, returns the array, where each element has been tested against that logic and converted to the boolean answer."
   ]
  },
  {
   "cell_type": "code",
   "execution_count": null,
   "id": "e62e18c6-8c13-43c4-a981-49d6153ee578",
   "metadata": {},
   "outputs": [],
   "source": [
    "# q2 - (a) boolean array + (b) \"masking\"\n",
    "\n",
    "# (a)\n",
    "myray > 0 # you can do \"comparison operators\" on np AND pandas arrays\n",
    "\n",
    "# (b)\n",
    "mask = myray > 0\n",
    "myray[mask]\n"
   ]
  },
  {
   "cell_type": "markdown",
   "id": "ef0d2b1b-8ca9-4252-8221-7a6c0abb2547",
   "metadata": {},
   "source": [
    "What you just learned about masking and filtering can be done with dataframes!"
   ]
  },
  {
   "cell_type": "markdown",
   "id": "8e6bf829-8ba4-4cd3-84c1-8c13b33a04f2",
   "metadata": {},
   "source": [
    "## The main event - Pandas\n",
    "\n",
    "Vocab\n",
    "- series\n",
    "- index \n",
    "- dataframe\n",
    "- columns and names\n",
    "- rows and index \n",
    "- multiindex "
   ]
  },
  {
   "cell_type": "code",
   "execution_count": null,
   "id": "f6515f43-5109-4a96-bee9-e65ec3541157",
   "metadata": {},
   "outputs": [],
   "source": [
    "start = datetime.datetime(2017, 1, 1) # you can specify start and end dates this way\n",
    "end = datetime.datetime(2021, 1, 27)\n",
    "macro_df = pdr.data.DataReader(['GDP','CPIAUCSL','UNRATE'], 'fred', start, end)\n"
   ]
  },
  {
   "cell_type": "code",
   "execution_count": null,
   "id": "6c729373-a0ef-4e12-8987-4d8a2cfe836f",
   "metadata": {},
   "outputs": [],
   "source": [
    "# preview the dataframe\n",
    "macro_df # type the name of the df"
   ]
  },
  {
   "cell_type": "code",
   "execution_count": null,
   "id": "6a0578ad-9869-4991-a79c-e1d6081600a8",
   "metadata": {},
   "outputs": [],
   "source": [
    "# shape# ABCD!!!\n",
    "macro_df.shape   # no paren - attribute \n",
    "# macro_df.shape[1]"
   ]
  },
  {
   "cell_type": "code",
   "execution_count": null,
   "id": "c6964b7b-5a3d-45d4-981f-28ff45f518a6",
   "metadata": {},
   "outputs": [],
   "source": [
    "# variable types \n",
    "macro_df.info()"
   ]
  },
  {
   "cell_type": "code",
   "execution_count": null,
   "id": "c143451c-47be-43c6-b816-bb8564a85493",
   "metadata": {},
   "outputs": [],
   "source": [
    "# Summary Stats\n",
    "macro_df.describe() "
   ]
  },
  {
   "cell_type": "code",
   "execution_count": null,
   "id": "c2a16499-5810-4921-bbc8-f1d96f383a9e",
   "metadata": {},
   "outputs": [],
   "source": [
    "# look at top X rows\n",
    "macro_df.head(8)"
   ]
  },
  {
   "cell_type": "code",
   "execution_count": null,
   "id": "229d83f8-d100-4f31-8562-c403e988cef0",
   "metadata": {},
   "outputs": [],
   "source": [
    "# look at bottom X rows\n",
    "macro_df.tail(12)"
   ]
  },
  {
   "cell_type": "code",
   "execution_count": null,
   "id": "4346813f-c4f8-4633-831f-12d8cff896dc",
   "metadata": {},
   "outputs": [],
   "source": [
    "# grab one variable\n",
    "macro_df['UNRATE']"
   ]
  },
  {
   "cell_type": "code",
   "execution_count": null,
   "id": "8a0310ef-56be-4243-8457-dd900b324f65",
   "metadata": {},
   "outputs": [],
   "source": [
    "# grab two (or more) variables\n",
    "macro_df[ ['UNRATE','GDP']   ] "
   ]
  },
  {
   "cell_type": "code",
   "execution_count": null,
   "id": "004d9ef8-746f-4604-8a53-f1f671593489",
   "metadata": {},
   "outputs": [],
   "source": [
    "# see column names\n",
    "macro_df.columns"
   ]
  },
  {
   "cell_type": "code",
   "execution_count": null,
   "id": "c1cc6e3c-a4e6-4fc9-90cd-16ad1f335daa",
   "metadata": {},
   "outputs": [],
   "source": [
    "# change column names\n",
    "macro_df.columns = ['GDP','CPI','UNRATE']\n",
    "macro_df.columns\n",
    "\n",
    "# if you are changing a few names in a large dataset >>> .rename()"
   ]
  },
  {
   "cell_type": "code",
   "execution_count": null,
   "id": "686b664f-2e4b-48af-8793-1074f20beaf4",
   "metadata": {},
   "outputs": [],
   "source": [
    "# see index\n",
    "macro_df.index"
   ]
  },
  {
   "cell_type": "code",
   "execution_count": null,
   "id": "df9dd526-aa85-451b-afe7-ae8e914d05fa",
   "metadata": {},
   "outputs": [],
   "source": [
    "# reset_index() and set_index()\n",
    "macro_df.reset_index() # turns index into var\n",
    "\n",
    "macro_df.reset_index().set_index('DATE') # turn var(s) into index"
   ]
  },
  {
   "cell_type": "code",
   "execution_count": null,
   "id": "a9b17b30-f772-4cb4-9eb8-8a026f6a817e",
   "metadata": {},
   "outputs": [],
   "source": [
    "# grab some random rows\n",
    "macro_df.sample(10)"
   ]
  },
  {
   "cell_type": "code",
   "execution_count": null,
   "id": "13d785d8-9e41-4ec4-abbe-e7cca94272d1",
   "metadata": {},
   "outputs": [],
   "source": [
    "# grab some rows (by position)\n",
    "macro_df[30:37]"
   ]
  },
  {
   "cell_type": "code",
   "execution_count": null,
   "id": "9b0c52b0-535d-4411-bb3e-fd65117e79a8",
   "metadata": {},
   "outputs": [],
   "source": [
    "# grab some rows (by value)\n",
    "mask = macro_df['UNRATE'] > 6\n",
    "macro_df.loc[mask]"
   ]
  },
  {
   "cell_type": "code",
   "execution_count": null,
   "id": "78146ae9-7ac4-43a2-9734-035ba008a572",
   "metadata": {},
   "outputs": [],
   "source": [
    "# create a variable\n",
    "# (2 ways)\n",
    "macro_df['high'] = macro_df['UNRATE'] > 6\n",
    "macro_df = macro_df.assign(low = macro_df['UNRATE'] < 4\n",
    "macro_df"
   ]
  },
  {
   "cell_type": "markdown",
   "id": "8971d324-a0b9-4afe-9b8b-db12f2682c5b",
   "metadata": {},
   "source": [
    "## EDA\n",
    "\n",
    "Stop here. Back to the lecture. \n",
    "\n",
    "### Part 1\n",
    "\n",
    "Q0: Do each of the [EDA golden rules for initial data exploration](https://ledatascifi.github.io/ledatascifi-2023/content/03/02e_eda_golden.html) and write down your observations.\n",
    "- **Important: What is the \"key\" or \"unit level\" that observations in this database describes?** \n",
    "    - This is defined in 3.2.5 and discussed in [3.2.2.2 via example](https://ledatascifi.github.io/ledatascifi-2023/content/03/02b_pandasVocab.html#the-shape-of-data)\n",
    "    - The \"key\" levels in databases we will look at are often increments of time in the data, the type of entity describe (e.g. firm, person, state, country, industry), and combinations of entity and time. \n",
    "    - E.g. \"firm\" level, \"firm-year\" level"
   ]
  },
  {
   "cell_type": "code",
   "execution_count": null,
   "id": "f797797c-ed10-49fd-b7cd-24c0f09f3fbb",
   "metadata": {},
   "outputs": [],
   "source": []
  },
  {
   "cell_type": "markdown",
   "id": "0b7d8f15-5efe-4143-88de-60412bdf7099",
   "metadata": {},
   "source": [
    "Q1: What is the second series above?"
   ]
  },
  {
   "cell_type": "markdown",
   "id": "50077f53-9a68-4c7f-8e22-f4677c39ca8e",
   "metadata": {},
   "source": []
  },
  {
   "cell_type": "markdown",
   "id": "c5111809-8bda-4db2-bdb3-2c967754af7b",
   "metadata": {},
   "source": [
    "Q2: What is the frequency of the series?"
   ]
  },
  {
   "cell_type": "markdown",
   "id": "efa464f9-3de5-4bc8-80b6-881a4091e79e",
   "metadata": {},
   "source": []
  },
  {
   "cell_type": "markdown",
   "id": "45e5ce05-a65d-4bd8-9c10-dd0fb6bdbe44",
   "metadata": {},
   "source": [
    "Q3: What is the average ANNUAL GDP, based on the data?"
   ]
  },
  {
   "cell_type": "code",
   "execution_count": null,
   "id": "ae0c5b8d-a450-4e15-a85a-f2b177e73fae",
   "metadata": {},
   "outputs": [],
   "source": []
  },
  {
   "cell_type": "markdown",
   "id": "e40d09b3-5ef0-42a3-b07b-1a9bd4a46665",
   "metadata": {},
   "source": [
    "## Part 2\n",
    "\n",
    "Q4: Download the annual *real* gdp from 1960 to 2018 from FRED and compute the average annual percent change"
   ]
  },
  {
   "cell_type": "markdown",
   "id": "fa27fe66-0086-427b-858a-1da0ef225924",
   "metadata": {},
   "source": [
    "Q5: Compute the average gdp percent change within *each decade*\n"
   ]
  },
  {
   "cell_type": "markdown",
   "id": "58abde0a-757b-4b4c-a1bb-92bff3753dcd",
   "metadata": {},
   "source": [
    "## Part 3\n",
    "\n",
    "First, I'll load January data on unemployment, the Case-Shiller housing index, and median household income in three states (CA/MI/PA). "
   ]
  },
  {
   "cell_type": "code",
   "execution_count": null,
   "id": "3195ec45-cd2b-49eb-a268-da7e5a9321ed",
   "metadata": {},
   "outputs": [],
   "source": [
    "# LOAD DATA AND CONVERT TO ANNUAL\n",
    "\n",
    "start = 1990 # pandas datareader can infer these are years\n",
    "end = 2018\n",
    "macro_data = pdr.data.DataReader(['CAUR','MIUR','PAUR', # unemployment \n",
    "                                  'LXXRSA','DEXRSA','WDXRSA', # case shiller index in LA, Detroit, DC (no PA  available!)\n",
    "                                  'MEHOINUSCAA672N','MEHOINUSMIA672N','MEHOINUSPAA672N'], #  \n",
    "                                 'fred', start, end)\n",
    "macro_data = macro_data.resample('Y').first() # get's the first observation for each variable in a given year\n",
    "\n",
    "# CLEAN UP THE FORMATING SOMEWHAT\n",
    "\n",
    "macro_data.index = macro_data.index.year\n",
    "print(\"\\n\\n DATA BEFORE FORMATTING: \\n\\n\")\n",
    "print(macro_data[:20]) # see how the data looks now? ugly variable names, but its an annual dataset at least\n",
    "macro_data.columns=pd.MultiIndex.from_tuples([\n",
    "    ('Unemployment','CA'),('Unemployment','MI'),('Unemployment','PA'),\n",
    "    ('HouseIdx','CA'),('HouseIdx','MI'),('HouseIdx','PA'),\n",
    "    ('MedIncome','CA'),('MedIncome','MI'),('MedIncome','PA')\n",
    "    ])\n",
    "print(\"\\n\\n DATA AFTER FORMATTING: \\n\\n\")\n",
    "print(macro_data[:20]) # this is a dataset that is \"wide\", and now \n",
    "                       # the column variable names have 2 levels - var name, \n",
    "                       # and unit/state that variable applies to\n"
   ]
  },
  {
   "cell_type": "markdown",
   "id": "c950bb19-3d2e-40eb-ab82-bc01ae43b8b1",
   "metadata": {},
   "source": [
    "Q6: for each decade and state, report the average annual CHANGE (level, not percent) in unemployment"
   ]
  },
  {
   "cell_type": "markdown",
   "id": "d2215c69-ecde-47da-9202-34f1231d8edb",
   "metadata": {},
   "source": [
    "Q7: for each decade and state, report the average annual PERCENT CHANGE in house prices and household income"
   ]
  }
 ],
 "metadata": {
  "kernelspec": {
   "display_name": "Python 3 (ipykernel)",
   "language": "python",
   "name": "python3"
  },
  "language_info": {
   "codemirror_mode": {
    "name": "ipython",
    "version": 3
   },
   "file_extension": ".py",
   "mimetype": "text/x-python",
   "name": "python",
   "nbconvert_exporter": "python",
   "pygments_lexer": "ipython3",
   "version": "3.8.16"
  }
 },
 "nbformat": 4,
 "nbformat_minor": 5
}
